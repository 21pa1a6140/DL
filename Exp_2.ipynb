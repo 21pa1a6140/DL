{
  "nbformat": 4,
  "nbformat_minor": 0,
  "metadata": {
    "colab": {
      "provenance": [],
      "authorship_tag": "ABX9TyOq9Vrh6OBc0Ug+ELL98Vez",
      "include_colab_link": true
    },
    "kernelspec": {
      "name": "python3",
      "display_name": "Python 3"
    },
    "language_info": {
      "name": "python"
    }
  },
  "cells": [
    {
      "cell_type": "markdown",
      "metadata": {
        "id": "view-in-github",
        "colab_type": "text"
      },
      "source": [
        "<a href=\"https://colab.research.google.com/github/21pa1a6140/DL/blob/main/Exp_2.ipynb\" target=\"_parent\"><img src=\"https://colab.research.google.com/assets/colab-badge.svg\" alt=\"Open In Colab\"/></a>"
      ]
    },
    {
      "cell_type": "code",
      "execution_count": null,
      "metadata": {
        "id": "p_7IczyTWAsv"
      },
      "outputs": [],
      "source": [
        "import numpy as np\n",
        "import random\n",
        "import sys"
      ]
    },
    {
      "cell_type": "code",
      "source": [
        "and_gate = [\n",
        "    [(1, 1), 1],\n",
        "    [(1, -1), -1],\n",
        "    [(-1, 1), -1],\n",
        "    [(-1, -1), -1]\n",
        "]"
      ],
      "metadata": {
        "id": "Y-UMhlbYWQlu"
      },
      "execution_count": null,
      "outputs": []
    },
    {
      "cell_type": "code",
      "source": [
        "or_gate = [\n",
        "    [(1, 1), 1],\n",
        "    [(1, -1), 1],\n",
        "    [(-1, 1), 1],\n",
        "    [(-1, -1), -1]\n",
        "]"
      ],
      "metadata": {
        "id": "jYGuq8ULWd7_"
      },
      "execution_count": null,
      "outputs": []
    },
    {
      "cell_type": "code",
      "source": [
        "def activation_function(x):\n",
        "    if x > 0:\n",
        "        return 1\n",
        "    elif x < 0:\n",
        "        return -1"
      ],
      "metadata": {
        "id": "2oAWR_CgWmyQ"
      },
      "execution_count": null,
      "outputs": []
    },
    {
      "cell_type": "code",
      "source": [
        "def run_perceptron(gate):\n",
        "    bias = (1,)\n",
        "    learning_constant = 0.1\n",
        "    n = 50\n",
        "\n",
        "    weights = []\n",
        "\n",
        "\n",
        "    for i in range(3):\n",
        "        weights.append(random.uniform(-1, 1))\n",
        "\n",
        "    print(weights)\n",
        "\n",
        "    for i in range(n):\n",
        "        inputs, expected_output = random.choice(gate)\n",
        "        inputs = inputs + bias\n",
        "        weighted_sum = np.dot(inputs, weights)\n",
        "        guess = activation_function(weighted_sum)\n",
        "        error = expected_output - guess\n",
        "        weights += learning_constant * error * np.asarray(inputs)\n",
        "\n",
        "\n",
        "    inputs, expected_output = random.choice(gate)\n",
        "    print(\"inputs: \" + str(inputs))\n",
        "    inputs = inputs + bias\n",
        "    weighted_sum = np.dot(inputs, weights)\n",
        "    print(\"weighted sum: \" + str(weighted_sum))\n",
        "    print(\"correct answer: \" + str(expected_output))\n",
        "    print(\"perceptron guess: \" + str(activation_function(weighted_sum)) + '\\n')"
      ],
      "metadata": {
        "id": "GtknxpVjW1Kg"
      },
      "execution_count": null,
      "outputs": []
    },
    {
      "cell_type": "code",
      "source": [
        "tests=2\n",
        "for i in range(tests):\n",
        "    print(\"// AND //\")\n",
        "    run_perceptron(and_gate)\n",
        "\n",
        "    print(\"// OR //\")\n",
        "    run_perceptron(or_gate)\n"
      ],
      "metadata": {
        "colab": {
          "base_uri": "https://localhost:8080/"
        },
        "id": "6Zx3wASLX9Io",
        "outputId": "e79aa8d5-c5e6-4aef-e2fd-71e065152bfc"
      },
      "execution_count": null,
      "outputs": [
        {
          "output_type": "stream",
          "name": "stdout",
          "text": [
            "// AND //\n",
            "[-0.654781278121336, -0.4980254534854269, -0.7627956542987577]\n",
            "inputs: (1, -1)\n",
            "weighted sum: -0.5195514789346669\n",
            "correct answer: -1\n",
            "perceptron guess: -1\n",
            "\n",
            "// OR //\n",
            "[-0.42874191860332656, -0.410587390937466, 0.8393516020178928]\n",
            "inputs: (-1, -1)\n",
            "weighted sum: -0.12131908844131467\n",
            "correct answer: -1\n",
            "perceptron guess: -1\n",
            "\n",
            "// AND //\n",
            "[0.715033705348477, -0.7369104797263641, -0.32410725500990556]\n",
            "inputs: (1, 1)\n",
            "weighted sum: 0.2540159706122074\n",
            "correct answer: 1\n",
            "perceptron guess: 1\n",
            "\n",
            "// OR //\n",
            "[-0.9450828316952857, 0.05763448135272187, -0.9161508352747516]\n",
            "inputs: (1, -1)\n",
            "weighted sum: 0.4811318516772407\n",
            "correct answer: 1\n",
            "perceptron guess: 1\n",
            "\n"
          ]
        }
      ]
    }
  ]
}